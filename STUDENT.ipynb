{
 "cells": [
  {
   "cell_type": "code",
   "execution_count": 1,
   "id": "a8b61e6c",
   "metadata": {},
   "outputs": [],
   "source": [
    "import pandas as pd # Data processing\n",
    "import numpy as np #linear algebra\n",
    "import matplotlib.pyplot as plt\n",
    "import seaborn as sns\n",
    "from sklearn.model_selection import train_test_split\n",
    "from sklearn import svm\n",
    "from sklearn.metrics import confusion_matrix\n",
    "from sklearn.metrics import accuracy_score"
   ]
  },
  {
   "cell_type": "code",
   "execution_count": 3,
   "id": "ee8de8fe",
   "metadata": {},
   "outputs": [],
   "source": [
    "projectS= pd.read_csv(\"Student.csv\",header = 0)"
   ]
  },
  {
   "cell_type": "code",
   "execution_count": 4,
   "id": "ed922182",
   "metadata": {},
   "outputs": [
    {
     "data": {
      "text/html": [
       "<div>\n",
       "<style scoped>\n",
       "    .dataframe tbody tr th:only-of-type {\n",
       "        vertical-align: middle;\n",
       "    }\n",
       "\n",
       "    .dataframe tbody tr th {\n",
       "        vertical-align: top;\n",
       "    }\n",
       "\n",
       "    .dataframe thead th {\n",
       "        text-align: right;\n",
       "    }\n",
       "</style>\n",
       "<table border=\"1\" class=\"dataframe\">\n",
       "  <thead>\n",
       "    <tr style=\"text-align: right;\">\n",
       "      <th></th>\n",
       "      <th>S/N</th>\n",
       "      <th>STUDENT ID</th>\n",
       "      <th>AGE</th>\n",
       "      <th>GENDER</th>\n",
       "      <th>INDIGENESHIP</th>\n",
       "      <th>ACCOM. STATUS</th>\n",
       "      <th>COST OF ACCOM.</th>\n",
       "      <th>INF. OF ACCOM.</th>\n",
       "      <th>LOCATION</th>\n",
       "      <th>OWNERSHIP</th>\n",
       "      <th>AVERAGECOST</th>\n",
       "      <th>MONTHLY ALLOWANCE</th>\n",
       "      <th>SATISFACTORY GAUGE</th>\n",
       "    </tr>\n",
       "  </thead>\n",
       "  <tbody>\n",
       "    <tr>\n",
       "      <th>0</th>\n",
       "      <td>1</td>\n",
       "      <td>101</td>\n",
       "      <td>26 -30</td>\n",
       "      <td>Male</td>\n",
       "      <td>Yes</td>\n",
       "      <td>Campus</td>\n",
       "      <td>50,000</td>\n",
       "      <td>level</td>\n",
       "      <td>campus</td>\n",
       "      <td>shared</td>\n",
       "      <td>NaN</td>\n",
       "      <td>30,001-50,000</td>\n",
       "      <td>Not satisfied</td>\n",
       "    </tr>\n",
       "    <tr>\n",
       "      <th>1</th>\n",
       "      <td>2</td>\n",
       "      <td>102</td>\n",
       "      <td>26-30</td>\n",
       "      <td>Female</td>\n",
       "      <td>Yes</td>\n",
       "      <td>Off campus</td>\n",
       "      <td>NaN</td>\n",
       "      <td>security</td>\n",
       "      <td>off campus</td>\n",
       "      <td>full</td>\n",
       "      <td>250,000 above</td>\n",
       "      <td>50,001 above</td>\n",
       "      <td>Satisfied</td>\n",
       "    </tr>\n",
       "    <tr>\n",
       "      <th>2</th>\n",
       "      <td>3</td>\n",
       "      <td>103</td>\n",
       "      <td>26-30</td>\n",
       "      <td>Male</td>\n",
       "      <td>Yes</td>\n",
       "      <td>Off campus</td>\n",
       "      <td>NaN</td>\n",
       "      <td>level</td>\n",
       "      <td>off campus</td>\n",
       "      <td>full</td>\n",
       "      <td>150,001-250,000</td>\n",
       "      <td>30,001-50,000</td>\n",
       "      <td>Not satisfied</td>\n",
       "    </tr>\n",
       "    <tr>\n",
       "      <th>3</th>\n",
       "      <td>4</td>\n",
       "      <td>104</td>\n",
       "      <td>26-30</td>\n",
       "      <td>Male</td>\n",
       "      <td>No</td>\n",
       "      <td>Off campus</td>\n",
       "      <td>NaN</td>\n",
       "      <td>security</td>\n",
       "      <td>off campus</td>\n",
       "      <td>full</td>\n",
       "      <td>150,001-250,000</td>\n",
       "      <td>10,001-30,000</td>\n",
       "      <td>Satisfied</td>\n",
       "    </tr>\n",
       "    <tr>\n",
       "      <th>4</th>\n",
       "      <td>5</td>\n",
       "      <td>105</td>\n",
       "      <td>26-30</td>\n",
       "      <td>Female</td>\n",
       "      <td>No</td>\n",
       "      <td>Off campus</td>\n",
       "      <td>NaN</td>\n",
       "      <td>security</td>\n",
       "      <td>off campus</td>\n",
       "      <td>shared</td>\n",
       "      <td>150,001-250,000</td>\n",
       "      <td>30,001-50,000</td>\n",
       "      <td>Not satisfied</td>\n",
       "    </tr>\n",
       "  </tbody>\n",
       "</table>\n",
       "</div>"
      ],
      "text/plain": [
       "   S/N  STUDENT ID     AGE  GENDER INDIGENESHIP ACCOM. STATUS COST OF ACCOM.  \\\n",
       "0    1         101  26 -30    Male          Yes        Campus         50,000   \n",
       "1    2         102   26-30  Female          Yes    Off campus            NaN   \n",
       "2    3         103   26-30    Male          Yes    Off campus            NaN   \n",
       "3    4         104   26-30    Male           No    Off campus            NaN   \n",
       "4    5         105   26-30  Female           No    Off campus            NaN   \n",
       "\n",
       "  INF. OF ACCOM.    LOCATION OWNERSHIP      AVERAGECOST MONTHLY ALLOWANCE  \\\n",
       "0          level      campus    shared              NaN     30,001-50,000   \n",
       "1       security  off campus      full    250,000 above      50,001 above   \n",
       "2          level  off campus      full  150,001-250,000     30,001-50,000   \n",
       "3       security  off campus      full  150,001-250,000     10,001-30,000   \n",
       "4       security  off campus    shared  150,001-250,000     30,001-50,000   \n",
       "\n",
       "  SATISFACTORY GAUGE  \n",
       "0      Not satisfied  \n",
       "1          Satisfied  \n",
       "2      Not satisfied  \n",
       "3          Satisfied  \n",
       "4      Not satisfied  "
      ]
     },
     "execution_count": 4,
     "metadata": {},
     "output_type": "execute_result"
    }
   ],
   "source": [
    "projectS.head()"
   ]
  },
  {
   "cell_type": "code",
   "execution_count": 5,
   "id": "01d2eff8",
   "metadata": {},
   "outputs": [
    {
     "name": "stdout",
     "output_type": "stream",
     "text": [
      "<class 'pandas.core.frame.DataFrame'>\n",
      "RangeIndex: 50 entries, 0 to 49\n",
      "Data columns (total 13 columns):\n",
      " #   Column              Non-Null Count  Dtype \n",
      "---  ------              --------------  ----- \n",
      " 0   S/N                 50 non-null     int64 \n",
      " 1   STUDENT ID          50 non-null     int64 \n",
      " 2   AGE                 50 non-null     object\n",
      " 3   GENDER              50 non-null     object\n",
      " 4   INDIGENESHIP        50 non-null     object\n",
      " 5   ACCOM. STATUS       50 non-null     object\n",
      " 6   COST OF ACCOM.      26 non-null     object\n",
      " 7   INF. OF ACCOM.      50 non-null     object\n",
      " 8   LOCATION            50 non-null     object\n",
      " 9   OWNERSHIP           50 non-null     object\n",
      " 10  AVERAGECOST         24 non-null     object\n",
      " 11  MONTHLY ALLOWANCE   50 non-null     object\n",
      " 12  SATISFACTORY GAUGE  50 non-null     object\n",
      "dtypes: int64(2), object(11)\n",
      "memory usage: 5.2+ KB\n"
     ]
    }
   ],
   "source": [
    "projectS.info()"
   ]
  },
  {
   "cell_type": "code",
   "execution_count": 6,
   "id": "d286c464",
   "metadata": {},
   "outputs": [
    {
     "data": {
      "text/plain": [
       "S/N                    0\n",
       "STUDENT ID             0\n",
       "AGE                    0\n",
       "GENDER                 0\n",
       "INDIGENESHIP           0\n",
       "ACCOM. STATUS          0\n",
       "COST OF ACCOM.        24\n",
       "INF. OF ACCOM.         0\n",
       "LOCATION               0\n",
       "OWNERSHIP              0\n",
       "AVERAGECOST           26\n",
       "MONTHLY ALLOWANCE      0\n",
       "SATISFACTORY GAUGE     0\n",
       "dtype: int64"
      ]
     },
     "execution_count": 6,
     "metadata": {},
     "output_type": "execute_result"
    }
   ],
   "source": [
    "projectS.isna().sum()"
   ]
  },
  {
   "cell_type": "code",
   "execution_count": 8,
   "id": "0050eb07",
   "metadata": {},
   "outputs": [
    {
     "data": {
      "text/plain": [
       "Index(['S/N', 'STUDENT ID', 'AGE', 'GENDER', 'INDIGENESHIP', 'ACCOM. STATUS',\n",
       "       'COST OF ACCOM.', 'INF. OF ACCOM.', 'LOCATION', 'OWNERSHIP',\n",
       "       'AVERAGECOST', 'MONTHLY ALLOWANCE', 'SATISFACTORY GAUGE'],\n",
       "      dtype='object')"
      ]
     },
     "execution_count": 8,
     "metadata": {},
     "output_type": "execute_result"
    }
   ],
   "source": [
    "projectS.columns"
   ]
  },
  {
   "cell_type": "code",
   "execution_count": 9,
   "id": "d30c5e82",
   "metadata": {},
   "outputs": [
    {
     "data": {
      "image/png": "[encoded data removed]",
      "text/plain": [
       "<Figure size 640x480 with 1 Axes>"
      ]
     },
     "metadata": {},
     "output_type": "display_data"
    }
   ],
   "source": [
    "sns.countplot(x ='ACCOM. STATUS', data= projectS)\n",
    "plt.show()"
   ]
  },
  {
   "cell_type": "code",
   "execution_count": 10,
   "id": "a94a039e",
   "metadata": {},
   "outputs": [
    {
     "data": {
      "image/png": "[encoded data removed]",
      "text/plain": [
       "<Figure size 640x480 with 1 Axes>"
      ]
     },
     "metadata": {},
     "output_type": "display_data"
    }
   ],
   "source": [
    "sns.countplot(x ='MONTHLY ALLOWANCE', data= projectS)\n",
    "plt.show()"
   ]
  },
  {
   "cell_type": "code",
   "execution_count": 11,
   "id": "123e56a2",
   "metadata": {},
   "outputs": [
    {
     "data": {
      "image/png": "[encoded data removed]",
      "text/plain": [
       "<Figure size 640x480 with 1 Axes>"
      ]
     },
     "metadata": {},
     "output_type": "display_data"
    }
   ],
   "source": [
    "sns.countplot(x ='SATISFACTORY GAUGE', data= projectS)\n",
    "plt.show()"
   ]
  },
  {
   "cell_type": "code",
   "execution_count": 12,
   "id": "eb15af94",
   "metadata": {},
   "outputs": [
    {
     "data": {
      "image/png": "[encoded data removed]",
      "text/plain": [
       "<Figure size 640x480 with 1 Axes>"
      ]
     },
     "metadata": {},
     "output_type": "display_data"
    }
   ],
   "source": [
    "sns.countplot(x ='INF. OF ACCOM.', data= projectS)\n",
    "plt.show()"
   ]
  },
  {
   "cell_type": "code",
   "execution_count": null,
   "id": "2650ad94",
   "metadata": {},
   "outputs": [],
   "source": []
  }
 ],
 "metadata": {
  "kernelspec": {
   "display_name": "Python 3 (ipykernel)",
   "language": "python",
   "name": "python3"
  },
  "language_info": {
   "codemirror_mode": {
    "name": "ipython",
    "version": 3
   },
   "file_extension": ".py",
   "mimetype": "text/x-python",
   "name": "python",
   "nbconvert_exporter": "python",
   "pygments_lexer": "ipython3",
   "version": "3.11.5"
  }
 },
 "nbformat": 4,
 "nbformat_minor": 5
}
